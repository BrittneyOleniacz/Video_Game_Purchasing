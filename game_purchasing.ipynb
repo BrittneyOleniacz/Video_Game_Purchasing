{
 "cells": [
  {
   "cell_type": "markdown",
   "metadata": {},
   "source": [
    "# Video Game Purchases"
   ]
  },
  {
   "cell_type": "markdown",
   "metadata": {},
   "source": [
    "You've been assigned the task of analyzing the data for a fantasy game. Like many others in its genre, the game is free-to-play, but players are encouraged to purchase optional items that enhance their playing experience. As a first task, the company would like you to generate a report that breaks down the game's purchasing data into meaningful insights.\n"
   ]
  },
  {
   "cell_type": "code",
   "execution_count": 83,
   "metadata": {},
   "outputs": [],
   "source": [
    "# Dependencies and Setup\n",
    "import pandas as pd\n",
    "import dataframe_image as dfi\n",
    "\n",
    "# File to Load (Remember to Change These)\n",
    "file_to_load = \"Resources/purchase_data.csv\"\n",
    "\n",
    "# Read Purchasing File and store into Pandas data frame\n",
    "purchase_data = pd.DataFrame(pd.read_csv(file_to_load))"
   ]
  },
  {
   "cell_type": "markdown",
   "metadata": {},
   "source": [
    "### Purchasing Analysis (Total)"
   ]
  },
  {
   "cell_type": "markdown",
   "metadata": {},
   "source": [
    "* Run basic calculations to obtain number of unique items, average price, etc.\n",
    "\n",
    "* Create a summary data frame to hold the results\n",
    "\n",
    "* Optional: give the displayed data cleaner formatting\n",
    "\n",
    "* Display the summary data frame"
   ]
  },
  {
   "cell_type": "code",
   "execution_count": 84,
   "metadata": {},
   "outputs": [
    {
     "data": {
      "text/html": [
       "<style  type=\"text/css\" >\n",
       "</style><table id=\"T_a86e8792_61d9_11eb_9402_9cb6d0b98b60\" ><thead>    <tr>        <th class=\"blank level0\" ></th>        <th class=\"col_heading level0 col0\" >Unique Items</th>        <th class=\"col_heading level0 col1\" >Average Price</th>        <th class=\"col_heading level0 col2\" >Number of Purchases</th>        <th class=\"col_heading level0 col3\" >Total Revenue</th>    </tr></thead><tbody>\n",
       "                <tr>\n",
       "                        <th id=\"T_a86e8792_61d9_11eb_9402_9cb6d0b98b60level0_row0\" class=\"row_heading level0 row0\" >0</th>\n",
       "                        <td id=\"T_a86e8792_61d9_11eb_9402_9cb6d0b98b60row0_col0\" class=\"data row0 col0\" >179</td>\n",
       "                        <td id=\"T_a86e8792_61d9_11eb_9402_9cb6d0b98b60row0_col1\" class=\"data row0 col1\" >$3.05</td>\n",
       "                        <td id=\"T_a86e8792_61d9_11eb_9402_9cb6d0b98b60row0_col2\" class=\"data row0 col2\" >780</td>\n",
       "                        <td id=\"T_a86e8792_61d9_11eb_9402_9cb6d0b98b60row0_col3\" class=\"data row0 col3\" >$2,379.77</td>\n",
       "            </tr>\n",
       "    </tbody></table>"
      ],
      "text/plain": [
       "<pandas.io.formats.style.Styler at 0x13f15b50520>"
      ]
     },
     "execution_count": 84,
     "metadata": {},
     "output_type": "execute_result"
    }
   ],
   "source": [
    "# Run basic calculations\n",
    "revenue = purchase_data[\"Price\"].sum()\n",
    "items = len(purchase_data[\"Item Name\"].unique())\n",
    "avg_price = purchase_data[\"Price\"].mean()\n",
    "purchases = purchase_data[\"Purchase ID\"].count()\n",
    "\n",
    "# Create a summary data frame to hold the results; Optional: give the displayed data cleaner formatting\n",
    "purchasing_summary = pd.DataFrame({\n",
    "    \"Unique Items\":[items],\n",
    "    \"Average Price\":[avg_price],\n",
    "    \"Number of Purchases\":[purchases],\n",
    "    \"Total Revenue\":[revenue]}).style.format({\"Average Price\":\"${:,.2f}\", \"Total Revenue\":\"${:,.2f}\"})\n",
    "\n",
    "#Export Data frame to images\n",
    "dfi.export(purchasing_summary, 'Images/purchasing_summary.png')\n",
    "\n",
    "# Display the summary data frame\n",
    "purchasing_summary"
   ]
  },
  {
   "cell_type": "markdown",
   "metadata": {},
   "source": [
    "### Player Count"
   ]
  },
  {
   "cell_type": "markdown",
   "metadata": {},
   "source": [
    "* Display the total number of players\n"
   ]
  },
  {
   "cell_type": "code",
   "execution_count": 85,
   "metadata": {},
   "outputs": [
    {
     "data": {
      "text/html": [
       "<div>\n",
       "<style scoped>\n",
       "    .dataframe tbody tr th:only-of-type {\n",
       "        vertical-align: middle;\n",
       "    }\n",
       "\n",
       "    .dataframe tbody tr th {\n",
       "        vertical-align: top;\n",
       "    }\n",
       "\n",
       "    .dataframe thead th {\n",
       "        text-align: right;\n",
       "    }\n",
       "</style>\n",
       "<table border=\"1\" class=\"dataframe\">\n",
       "  <thead>\n",
       "    <tr style=\"text-align: right;\">\n",
       "      <th></th>\n",
       "      <th>Total Players</th>\n",
       "    </tr>\n",
       "  </thead>\n",
       "  <tbody>\n",
       "    <tr>\n",
       "      <th>0</th>\n",
       "      <td>576</td>\n",
       "    </tr>\n",
       "  </tbody>\n",
       "</table>\n",
       "</div>"
      ],
      "text/plain": [
       "   Total Players\n",
       "0            576"
      ]
     },
     "execution_count": 85,
     "metadata": {},
     "output_type": "execute_result"
    }
   ],
   "source": [
    "# Extract demographic data from original dataset\n",
    "player_demographics = purchase_data.loc[:, [\"Gender\", \"SN\", \"Age\"]]\n",
    "\n",
    "# Drop duplicates: screennames can appear more than once if the same screenname is used to makes multiple purchases\n",
    "player_demographics = player_demographics.drop_duplicates()\n",
    "\n",
    "# Calculate number of Unique Players\n",
    "players = player_demographics.count()[0]\n",
    "\n",
    "# Display as data frame\n",
    "pd.DataFrame({\"Total Players\": [players]})"
   ]
  },
  {
   "cell_type": "markdown",
   "metadata": {},
   "source": [
    "### Gender Demographics"
   ]
  },
  {
   "cell_type": "markdown",
   "metadata": {},
   "source": [
    "* Percentage and Count of Male Players\n",
    "\n",
    "* Percentage and Count of Female Players\n",
    "\n",
    "* Percentage and Count of Other / Non-Disclosed"
   ]
  },
  {
   "cell_type": "code",
   "execution_count": 86,
   "metadata": {},
   "outputs": [
    {
     "data": {
      "text/html": [
       "<style  type=\"text/css\" >\n",
       "</style><table id=\"T_abd4c346_61d9_11eb_8058_9cb6d0b98b60\" ><thead>    <tr>        <th class=\"blank level0\" ></th>        <th class=\"col_heading level0 col0\" >Total Count</th>        <th class=\"col_heading level0 col1\" >Percentage of Players</th>    </tr></thead><tbody>\n",
       "                <tr>\n",
       "                        <th id=\"T_abd4c346_61d9_11eb_8058_9cb6d0b98b60level0_row0\" class=\"row_heading level0 row0\" >Male</th>\n",
       "                        <td id=\"T_abd4c346_61d9_11eb_8058_9cb6d0b98b60row0_col0\" class=\"data row0 col0\" >484</td>\n",
       "                        <td id=\"T_abd4c346_61d9_11eb_8058_9cb6d0b98b60row0_col1\" class=\"data row0 col1\" >84.0%</td>\n",
       "            </tr>\n",
       "            <tr>\n",
       "                        <th id=\"T_abd4c346_61d9_11eb_8058_9cb6d0b98b60level0_row1\" class=\"row_heading level0 row1\" >Female</th>\n",
       "                        <td id=\"T_abd4c346_61d9_11eb_8058_9cb6d0b98b60row1_col0\" class=\"data row1 col0\" >81</td>\n",
       "                        <td id=\"T_abd4c346_61d9_11eb_8058_9cb6d0b98b60row1_col1\" class=\"data row1 col1\" >14.1%</td>\n",
       "            </tr>\n",
       "            <tr>\n",
       "                        <th id=\"T_abd4c346_61d9_11eb_8058_9cb6d0b98b60level0_row2\" class=\"row_heading level0 row2\" >Other / Non-Disclosed</th>\n",
       "                        <td id=\"T_abd4c346_61d9_11eb_8058_9cb6d0b98b60row2_col0\" class=\"data row2 col0\" >11</td>\n",
       "                        <td id=\"T_abd4c346_61d9_11eb_8058_9cb6d0b98b60row2_col1\" class=\"data row2 col1\" >1.9%</td>\n",
       "            </tr>\n",
       "    </tbody></table>"
      ],
      "text/plain": [
       "<pandas.io.formats.style.Styler at 0x13f15b508e0>"
      ]
     },
     "execution_count": 86,
     "metadata": {},
     "output_type": "execute_result"
    }
   ],
   "source": [
    "# Calculate the Number and Percentage by Gender\n",
    "gender_count = player_demographics[\"Gender\"].value_counts()\n",
    "gender_percents = gender_count / players\n",
    "\n",
    "# Create data frame, with formatting \n",
    "gender_demographics = pd.DataFrame({\n",
    "    \"Total Count\":gender_count, \n",
    "    \"Percentage of Players\":gender_percents}).style.format({\"Percentage of Players\":\"{:,.1%}\"})\n",
    "\n",
    "#Export Data frame to images\n",
    "dfi.export(gender_demographics, 'Images/gender_demographics.png')\n",
    "\n",
    "# Display data frame\n",
    "gender_demographics"
   ]
  },
  {
   "cell_type": "markdown",
   "metadata": {},
   "source": [
    "\n",
    "### Purchasing Analysis (Gender)"
   ]
  },
  {
   "cell_type": "markdown",
   "metadata": {},
   "source": [
    "* Run basic calculations to obtain purchase count, avg. purchase price, avg. purchase total per person etc. by gender\n",
    "* Create a summary data frame to hold the results\n",
    "* Optional: give the displayed data cleaner formatting\n",
    "* Display the summary data frame"
   ]
  },
  {
   "cell_type": "code",
   "execution_count": 88,
   "metadata": {},
   "outputs": [
    {
     "data": {
      "text/html": [
       "<style  type=\"text/css\" >\n",
       "</style><table id=\"T_c36da17e_61d9_11eb_81a9_9cb6d0b98b60\" ><thead>    <tr>        <th class=\"blank level0\" ></th>        <th class=\"col_heading level0 col0\" >Purchase Count</th>        <th class=\"col_heading level0 col1\" >Average Purchase Price</th>        <th class=\"col_heading level0 col2\" >Total Purchase Value</th>        <th class=\"col_heading level0 col3\" >Average Total Purchase per Person</th>    </tr>    <tr>        <th class=\"index_name level0\" >Gender</th>        <th class=\"blank\" ></th>        <th class=\"blank\" ></th>        <th class=\"blank\" ></th>        <th class=\"blank\" ></th>    </tr></thead><tbody>\n",
       "                <tr>\n",
       "                        <th id=\"T_c36da17e_61d9_11eb_81a9_9cb6d0b98b60level0_row0\" class=\"row_heading level0 row0\" >Female</th>\n",
       "                        <td id=\"T_c36da17e_61d9_11eb_81a9_9cb6d0b98b60row0_col0\" class=\"data row0 col0\" >113</td>\n",
       "                        <td id=\"T_c36da17e_61d9_11eb_81a9_9cb6d0b98b60row0_col1\" class=\"data row0 col1\" >$3.20</td>\n",
       "                        <td id=\"T_c36da17e_61d9_11eb_81a9_9cb6d0b98b60row0_col2\" class=\"data row0 col2\" >$361.94</td>\n",
       "                        <td id=\"T_c36da17e_61d9_11eb_81a9_9cb6d0b98b60row0_col3\" class=\"data row0 col3\" >$0.63</td>\n",
       "            </tr>\n",
       "            <tr>\n",
       "                        <th id=\"T_c36da17e_61d9_11eb_81a9_9cb6d0b98b60level0_row1\" class=\"row_heading level0 row1\" >Male</th>\n",
       "                        <td id=\"T_c36da17e_61d9_11eb_81a9_9cb6d0b98b60row1_col0\" class=\"data row1 col0\" >652</td>\n",
       "                        <td id=\"T_c36da17e_61d9_11eb_81a9_9cb6d0b98b60row1_col1\" class=\"data row1 col1\" >$3.02</td>\n",
       "                        <td id=\"T_c36da17e_61d9_11eb_81a9_9cb6d0b98b60row1_col2\" class=\"data row1 col2\" >$1,967.64</td>\n",
       "                        <td id=\"T_c36da17e_61d9_11eb_81a9_9cb6d0b98b60row1_col3\" class=\"data row1 col3\" >$3.42</td>\n",
       "            </tr>\n",
       "            <tr>\n",
       "                        <th id=\"T_c36da17e_61d9_11eb_81a9_9cb6d0b98b60level0_row2\" class=\"row_heading level0 row2\" >Other / Non-Disclosed</th>\n",
       "                        <td id=\"T_c36da17e_61d9_11eb_81a9_9cb6d0b98b60row2_col0\" class=\"data row2 col0\" >15</td>\n",
       "                        <td id=\"T_c36da17e_61d9_11eb_81a9_9cb6d0b98b60row2_col1\" class=\"data row2 col1\" >$3.35</td>\n",
       "                        <td id=\"T_c36da17e_61d9_11eb_81a9_9cb6d0b98b60row2_col2\" class=\"data row2 col2\" >$50.19</td>\n",
       "                        <td id=\"T_c36da17e_61d9_11eb_81a9_9cb6d0b98b60row2_col3\" class=\"data row2 col3\" >$0.09</td>\n",
       "            </tr>\n",
       "    </tbody></table>"
      ],
      "text/plain": [
       "<pandas.io.formats.style.Styler at 0x13f12ce8760>"
      ]
     },
     "execution_count": 88,
     "metadata": {},
     "output_type": "execute_result"
    }
   ],
   "source": [
    "# Run basic calculations\n",
    "total_spent_by_gender = purchase_data.groupby([\"Gender\"]).sum()[\"Price\"].rename(\"Total Purchase Value\")\n",
    "average_spent_by_gender = purchase_data.groupby([\"Gender\"]).mean()[\"Price\"].rename(\"Average Purchase Price\")\n",
    "purchase_count_by_gender = purchase_data.groupby([\"Gender\"]).count()[\"Price\"].rename(\"Purchase Count\")\n",
    "\n",
    "# Average Total Purchase per Person\n",
    "average_total = total_spent_by_gender / players\n",
    "\n",
    "# Create a summary data frame to hold the results \n",
    "purchasing_by_gender = pd.DataFrame({\n",
    "    \"Purchase Count\": purchase_count_by_gender, \n",
    "    \"Average Purchase Price\": average_spent_by_gender, \n",
    "    \"Total Purchase Value\": total_spent_by_gender, \n",
    "    \"Average Total Purchase per Person\": average_total}).style.format({\n",
    "                \"Average Purchase Price\":\"${:,.2f}\", \n",
    "                \"Total Purchase Value\":\"${:,.2f}\", \n",
    "                \"Average Total Purchase per Person\":\"${:,.2f}\"})\n",
    "\n",
    "#Export Data frame to images \n",
    "dfi.export(purchasing_by_gender, \"images/purchasing_by_gender.png\")\n",
    "\n",
    "# Display data frame\n",
    "purchasing_by_gender"
   ]
  },
  {
   "cell_type": "markdown",
   "metadata": {},
   "source": [
    "### Age Demographics"
   ]
  },
  {
   "cell_type": "markdown",
   "metadata": {},
   "source": [
    "* Establish bins for ages\n",
    "* Categorize the existing players using the age bins. Hint: use pd.cut()\n",
    "* Calculate the numbers and percentages by age group\n",
    "* Create a summary data frame to hold the results\n",
    "* Optional: round the percentage column to two decimal points\n",
    "* Display Age Demographics Table"
   ]
  },
  {
   "cell_type": "code",
   "execution_count": 89,
   "metadata": {},
   "outputs": [
    {
     "data": {
      "text/html": [
       "<div>\n",
       "<style scoped>\n",
       "    .dataframe tbody tr th:only-of-type {\n",
       "        vertical-align: middle;\n",
       "    }\n",
       "\n",
       "    .dataframe tbody tr th {\n",
       "        vertical-align: top;\n",
       "    }\n",
       "\n",
       "    .dataframe thead th {\n",
       "        text-align: right;\n",
       "    }\n",
       "</style>\n",
       "<table border=\"1\" class=\"dataframe\">\n",
       "  <thead>\n",
       "    <tr style=\"text-align: right;\">\n",
       "      <th></th>\n",
       "      <th>Total Count</th>\n",
       "      <th>Percentage of Players</th>\n",
       "    </tr>\n",
       "  </thead>\n",
       "  <tbody>\n",
       "    <tr>\n",
       "      <th>&lt;10</th>\n",
       "      <td>17</td>\n",
       "      <td>2.95%</td>\n",
       "    </tr>\n",
       "    <tr>\n",
       "      <th>10-14</th>\n",
       "      <td>22</td>\n",
       "      <td>3.82%</td>\n",
       "    </tr>\n",
       "    <tr>\n",
       "      <th>15-19</th>\n",
       "      <td>107</td>\n",
       "      <td>18.58%</td>\n",
       "    </tr>\n",
       "    <tr>\n",
       "      <th>20-24</th>\n",
       "      <td>258</td>\n",
       "      <td>44.79%</td>\n",
       "    </tr>\n",
       "    <tr>\n",
       "      <th>25-29</th>\n",
       "      <td>77</td>\n",
       "      <td>13.37%</td>\n",
       "    </tr>\n",
       "    <tr>\n",
       "      <th>30-34</th>\n",
       "      <td>52</td>\n",
       "      <td>9.03%</td>\n",
       "    </tr>\n",
       "    <tr>\n",
       "      <th>35-39</th>\n",
       "      <td>31</td>\n",
       "      <td>5.38%</td>\n",
       "    </tr>\n",
       "    <tr>\n",
       "      <th>40+</th>\n",
       "      <td>12</td>\n",
       "      <td>2.08%</td>\n",
       "    </tr>\n",
       "  </tbody>\n",
       "</table>\n",
       "</div>"
      ],
      "text/plain": [
       "       Total Count Percentage of Players\n",
       "<10             17                 2.95%\n",
       "10-14           22                 3.82%\n",
       "15-19          107                18.58%\n",
       "20-24          258                44.79%\n",
       "25-29           77                13.37%\n",
       "30-34           52                 9.03%\n",
       "35-39           31                 5.38%\n",
       "40+             12                 2.08%"
      ]
     },
     "execution_count": 89,
     "metadata": {},
     "output_type": "execute_result"
    }
   ],
   "source": [
    "# Establish bins for ages by 4-year increments (i.e. <10, 10-14, 15-19, etc.)\n",
    "age_bins = [0, 9.90, 14.90, 19.90, 24.90, 29.90, 34.90, 39.90, 99999]\n",
    "group_names = [\"<10\", \"10-14\", \"15-19\", \"20-24\", \"25-29\", \"30-34\", \"35-39\", \"40+\"]\n",
    "\n",
    "# Categorize players into age bins with help from https://pandas.pydata.org/pandas-docs/stable/reference/api/pandas.cut.html\n",
    "player_demographics[\"Age Ranges\"] = pd.cut(player_demographics[\"Age\"], age_bins, labels=group_names)\n",
    "\n",
    "# Calculate the Numbers and Percentages by age group\n",
    "age_counts = player_demographics[\"Age Ranges\"].value_counts()\n",
    "age_percents = age_counts / players\n",
    "\n",
    "# Create a summary data frame to hold the results\n",
    "players_by_age = pd.DataFrame({\"Total Count\":age_counts, \"Percentage of Players\":age_percents})\n",
    "\n",
    "# Optional: round the percentage column to two decimal points\n",
    "players_by_age['Percentage of Players'] = players_by_age['Percentage of Players'].map(\"{:,.2%}\".format)\n",
    "\n",
    "# Sort Age Demographics Table\n",
    "players_by_age = players_by_age.sort_index()\n",
    "\n",
    "#Export Data frame to images\n",
    "players_by_age.dfi.export('images/players_by_age.png')\n",
    "\n",
    "# Display Age Demographics Table\n",
    "players_by_age"
   ]
  },
  {
   "cell_type": "markdown",
   "metadata": {},
   "source": [
    "### Purchasing Analysis (Age)"
   ]
  },
  {
   "cell_type": "markdown",
   "metadata": {},
   "source": [
    "* Bin the purchase_data data frame by age\n",
    "* Run basic calculations to obtain purchase count, avg. purchase price, avg. purchase total per person etc. in the table below\n",
    "* Create a summary data frame to hold the results\n",
    "* Optional: give the displayed data cleaner formatting\n",
    "* Display the summary data frame"
   ]
  },
  {
   "cell_type": "code",
   "execution_count": 92,
   "metadata": {},
   "outputs": [
    {
     "data": {
      "text/html": [
       "<style  type=\"text/css\" >\n",
       "</style><table id=\"T_19168794_61da_11eb_b173_9cb6d0b98b60\" ><thead>    <tr>        <th class=\"blank level0\" ></th>        <th class=\"col_heading level0 col0\" >Purchase Count</th>        <th class=\"col_heading level0 col1\" >Average Purchase Price</th>        <th class=\"col_heading level0 col2\" >Total Purchase Value</th>        <th class=\"col_heading level0 col3\" >Average Total Purchase per Person</th>    </tr>    <tr>        <th class=\"index_name level0\" >Age Ranges</th>        <th class=\"blank\" ></th>        <th class=\"blank\" ></th>        <th class=\"blank\" ></th>        <th class=\"blank\" ></th>    </tr></thead><tbody>\n",
       "                <tr>\n",
       "                        <th id=\"T_19168794_61da_11eb_b173_9cb6d0b98b60level0_row0\" class=\"row_heading level0 row0\" ><10</th>\n",
       "                        <td id=\"T_19168794_61da_11eb_b173_9cb6d0b98b60row0_col0\" class=\"data row0 col0\" >23</td>\n",
       "                        <td id=\"T_19168794_61da_11eb_b173_9cb6d0b98b60row0_col1\" class=\"data row0 col1\" >$3.35</td>\n",
       "                        <td id=\"T_19168794_61da_11eb_b173_9cb6d0b98b60row0_col2\" class=\"data row0 col2\" >$77.13</td>\n",
       "                        <td id=\"T_19168794_61da_11eb_b173_9cb6d0b98b60row0_col3\" class=\"data row0 col3\" >$4.54</td>\n",
       "            </tr>\n",
       "            <tr>\n",
       "                        <th id=\"T_19168794_61da_11eb_b173_9cb6d0b98b60level0_row1\" class=\"row_heading level0 row1\" >10-14</th>\n",
       "                        <td id=\"T_19168794_61da_11eb_b173_9cb6d0b98b60row1_col0\" class=\"data row1 col0\" >28</td>\n",
       "                        <td id=\"T_19168794_61da_11eb_b173_9cb6d0b98b60row1_col1\" class=\"data row1 col1\" >$2.96</td>\n",
       "                        <td id=\"T_19168794_61da_11eb_b173_9cb6d0b98b60row1_col2\" class=\"data row1 col2\" >$82.78</td>\n",
       "                        <td id=\"T_19168794_61da_11eb_b173_9cb6d0b98b60row1_col3\" class=\"data row1 col3\" >$3.76</td>\n",
       "            </tr>\n",
       "            <tr>\n",
       "                        <th id=\"T_19168794_61da_11eb_b173_9cb6d0b98b60level0_row2\" class=\"row_heading level0 row2\" >15-19</th>\n",
       "                        <td id=\"T_19168794_61da_11eb_b173_9cb6d0b98b60row2_col0\" class=\"data row2 col0\" >136</td>\n",
       "                        <td id=\"T_19168794_61da_11eb_b173_9cb6d0b98b60row2_col1\" class=\"data row2 col1\" >$3.04</td>\n",
       "                        <td id=\"T_19168794_61da_11eb_b173_9cb6d0b98b60row2_col2\" class=\"data row2 col2\" >$412.89</td>\n",
       "                        <td id=\"T_19168794_61da_11eb_b173_9cb6d0b98b60row2_col3\" class=\"data row2 col3\" >$3.86</td>\n",
       "            </tr>\n",
       "            <tr>\n",
       "                        <th id=\"T_19168794_61da_11eb_b173_9cb6d0b98b60level0_row3\" class=\"row_heading level0 row3\" >20-24</th>\n",
       "                        <td id=\"T_19168794_61da_11eb_b173_9cb6d0b98b60row3_col0\" class=\"data row3 col0\" >365</td>\n",
       "                        <td id=\"T_19168794_61da_11eb_b173_9cb6d0b98b60row3_col1\" class=\"data row3 col1\" >$3.05</td>\n",
       "                        <td id=\"T_19168794_61da_11eb_b173_9cb6d0b98b60row3_col2\" class=\"data row3 col2\" >$1,114.06</td>\n",
       "                        <td id=\"T_19168794_61da_11eb_b173_9cb6d0b98b60row3_col3\" class=\"data row3 col3\" >$4.32</td>\n",
       "            </tr>\n",
       "            <tr>\n",
       "                        <th id=\"T_19168794_61da_11eb_b173_9cb6d0b98b60level0_row4\" class=\"row_heading level0 row4\" >25-29</th>\n",
       "                        <td id=\"T_19168794_61da_11eb_b173_9cb6d0b98b60row4_col0\" class=\"data row4 col0\" >101</td>\n",
       "                        <td id=\"T_19168794_61da_11eb_b173_9cb6d0b98b60row4_col1\" class=\"data row4 col1\" >$2.90</td>\n",
       "                        <td id=\"T_19168794_61da_11eb_b173_9cb6d0b98b60row4_col2\" class=\"data row4 col2\" >$293.00</td>\n",
       "                        <td id=\"T_19168794_61da_11eb_b173_9cb6d0b98b60row4_col3\" class=\"data row4 col3\" >$3.81</td>\n",
       "            </tr>\n",
       "            <tr>\n",
       "                        <th id=\"T_19168794_61da_11eb_b173_9cb6d0b98b60level0_row5\" class=\"row_heading level0 row5\" >30-34</th>\n",
       "                        <td id=\"T_19168794_61da_11eb_b173_9cb6d0b98b60row5_col0\" class=\"data row5 col0\" >73</td>\n",
       "                        <td id=\"T_19168794_61da_11eb_b173_9cb6d0b98b60row5_col1\" class=\"data row5 col1\" >$2.93</td>\n",
       "                        <td id=\"T_19168794_61da_11eb_b173_9cb6d0b98b60row5_col2\" class=\"data row5 col2\" >$214.00</td>\n",
       "                        <td id=\"T_19168794_61da_11eb_b173_9cb6d0b98b60row5_col3\" class=\"data row5 col3\" >$4.12</td>\n",
       "            </tr>\n",
       "            <tr>\n",
       "                        <th id=\"T_19168794_61da_11eb_b173_9cb6d0b98b60level0_row6\" class=\"row_heading level0 row6\" >35-39</th>\n",
       "                        <td id=\"T_19168794_61da_11eb_b173_9cb6d0b98b60row6_col0\" class=\"data row6 col0\" >41</td>\n",
       "                        <td id=\"T_19168794_61da_11eb_b173_9cb6d0b98b60row6_col1\" class=\"data row6 col1\" >$3.60</td>\n",
       "                        <td id=\"T_19168794_61da_11eb_b173_9cb6d0b98b60row6_col2\" class=\"data row6 col2\" >$147.67</td>\n",
       "                        <td id=\"T_19168794_61da_11eb_b173_9cb6d0b98b60row6_col3\" class=\"data row6 col3\" >$4.76</td>\n",
       "            </tr>\n",
       "            <tr>\n",
       "                        <th id=\"T_19168794_61da_11eb_b173_9cb6d0b98b60level0_row7\" class=\"row_heading level0 row7\" >40+</th>\n",
       "                        <td id=\"T_19168794_61da_11eb_b173_9cb6d0b98b60row7_col0\" class=\"data row7 col0\" >13</td>\n",
       "                        <td id=\"T_19168794_61da_11eb_b173_9cb6d0b98b60row7_col1\" class=\"data row7 col1\" >$2.94</td>\n",
       "                        <td id=\"T_19168794_61da_11eb_b173_9cb6d0b98b60row7_col2\" class=\"data row7 col2\" >$38.24</td>\n",
       "                        <td id=\"T_19168794_61da_11eb_b173_9cb6d0b98b60row7_col3\" class=\"data row7 col3\" >$3.19</td>\n",
       "            </tr>\n",
       "    </tbody></table>"
      ],
      "text/plain": [
       "<pandas.io.formats.style.Styler at 0x13f15c5c670>"
      ]
     },
     "execution_count": 92,
     "metadata": {},
     "output_type": "execute_result"
    }
   ],
   "source": [
    "# Cut the Purchasing Data \n",
    "purchase_data[\"Age Ranges\"] = pd.cut(purchase_data[\"Age\"], age_bins, labels=group_names)\n",
    "\n",
    "# Run basic calculations\n",
    "total_spent_by_age = purchase_data.groupby([\"Age Ranges\"]).sum()[\"Price\"].rename(\"Total Purchase Value\")\n",
    "average_spent_by_age = purchase_data.groupby([\"Age Ranges\"]).mean()[\"Price\"].rename(\"Average Purchase Price\")\n",
    "purchase_count_by_age = purchase_data.groupby([\"Age Ranges\"]).count()[\"Price\"].rename(\"Purchase Count\")\n",
    "\n",
    "# Average Purchase per person in age group\n",
    "average_by_age = total_spent_by_age / players_by_age[\"Total Count\"]\n",
    "\n",
    "# Create a summary data frame to hold the results and give the displayed data cleaner formatting\n",
    "purchasing_by_age = pd.DataFrame({\n",
    "    \"Purchase Count\": purchase_count_by_age, \n",
    "    \"Average Purchase Price\":average_spent_by_age, \n",
    "    \"Total Purchase Value\":total_spent_by_age, \n",
    "    \"Average Total Purchase per Person\":average_by_age}).style.format({\"Average Purchase Price\":\"${:,.2f}\", \n",
    "               \"Total Purchase Value\":\"${:,.2f}\", \n",
    "               \"Average Total Purchase per Person\":\"${:,.2f}\"})\n",
    "\n",
    "#Export Data frame to images\n",
    "dfi.export(purchasing_by_age, \"images/purchasing_by_age.png\")\n",
    "\n",
    "# Display the summary data frame\n",
    "purchasing_by_age"
   ]
  },
  {
   "cell_type": "markdown",
   "metadata": {},
   "source": [
    "### Top Spenders"
   ]
  },
  {
   "cell_type": "markdown",
   "metadata": {},
   "source": [
    "* Run basic calculations to obtain the results in the table below\n",
    "* Create a summary data frame to hold the results\n",
    "* Sort the total purchase value column in descending order\n",
    "* Optional: give the displayed data cleaner formatting\n",
    "* Display a preview of the summary data frame"
   ]
  },
  {
   "cell_type": "code",
   "execution_count": 95,
   "metadata": {},
   "outputs": [
    {
     "data": {
      "text/html": [
       "<div>\n",
       "<style scoped>\n",
       "    .dataframe tbody tr th:only-of-type {\n",
       "        vertical-align: middle;\n",
       "    }\n",
       "\n",
       "    .dataframe tbody tr th {\n",
       "        vertical-align: top;\n",
       "    }\n",
       "\n",
       "    .dataframe thead th {\n",
       "        text-align: right;\n",
       "    }\n",
       "</style>\n",
       "<table border=\"1\" class=\"dataframe\">\n",
       "  <thead>\n",
       "    <tr style=\"text-align: right;\">\n",
       "      <th></th>\n",
       "      <th>Purchase Count</th>\n",
       "      <th>Average Purchase Price</th>\n",
       "      <th>Total Purchase Value</th>\n",
       "    </tr>\n",
       "    <tr>\n",
       "      <th>SN</th>\n",
       "      <th></th>\n",
       "      <th></th>\n",
       "      <th></th>\n",
       "    </tr>\n",
       "  </thead>\n",
       "  <tbody>\n",
       "    <tr>\n",
       "      <th>Lisosia93</th>\n",
       "      <td>5</td>\n",
       "      <td>$3.79</td>\n",
       "      <td>$18.96</td>\n",
       "    </tr>\n",
       "    <tr>\n",
       "      <th>Idastidru52</th>\n",
       "      <td>4</td>\n",
       "      <td>$3.86</td>\n",
       "      <td>$15.45</td>\n",
       "    </tr>\n",
       "    <tr>\n",
       "      <th>Chamjask73</th>\n",
       "      <td>3</td>\n",
       "      <td>$4.61</td>\n",
       "      <td>$13.83</td>\n",
       "    </tr>\n",
       "    <tr>\n",
       "      <th>Iral74</th>\n",
       "      <td>4</td>\n",
       "      <td>$3.40</td>\n",
       "      <td>$13.62</td>\n",
       "    </tr>\n",
       "    <tr>\n",
       "      <th>Iskadarya95</th>\n",
       "      <td>3</td>\n",
       "      <td>$4.37</td>\n",
       "      <td>$13.10</td>\n",
       "    </tr>\n",
       "  </tbody>\n",
       "</table>\n",
       "</div>"
      ],
      "text/plain": [
       "             Purchase Count Average Purchase Price Total Purchase Value\n",
       "SN                                                                     \n",
       "Lisosia93                 5                  $3.79               $18.96\n",
       "Idastidru52               4                  $3.86               $15.45\n",
       "Chamjask73                3                  $4.61               $13.83\n",
       "Iral74                    4                  $3.40               $13.62\n",
       "Iskadarya95               3                  $4.37               $13.10"
      ]
     },
     "execution_count": 95,
     "metadata": {},
     "output_type": "execute_result"
    }
   ],
   "source": [
    "# Run basic calculations\n",
    "user_total = purchase_data.groupby([\"SN\"]).sum()[\"Price\"].rename(\"Total Purchase Value\")\n",
    "user_average = purchase_data.groupby([\"SN\"]).mean()[\"Price\"].rename(\"Average Purchase Price\")\n",
    "user_count = purchase_data.groupby([\"SN\"]).count()[\"Price\"].rename(\"Purchase Count\")\n",
    "\n",
    "# Create a summary data frame\n",
    "top_spenders = pd.DataFrame({\"Total Purchase Value\": user_total, \"Average Purchase Price\": user_average, \"Purchase Count\": user_count})\n",
    "\n",
    "# Sort Table\n",
    "top_spenders = top_spenders.sort_values(\"Total Purchase Value\", ascending=False)\n",
    "\n",
    "# Optional: give the displayed data cleaner formatting\n",
    "top_spenders[\"Average Purchase Price\"] = top_spenders[\"Average Purchase Price\"].map(\"${:,.2f}\".format)\n",
    "top_spenders[\"Total Purchase Value\"] = top_spenders[\"Total Purchase Value\"].map(\"${:,.2f}\".format)\n",
    "top_spenders = top_spenders.loc[:,[\"Purchase Count\", \"Average Purchase Price\", \"Total Purchase Value\"]]\n",
    "\n",
    "#Export Data frame to images\n",
    "top_spenders.head(5).dfi.export(\"images/top_spenders.png\")\n",
    "\n",
    "# Display a preview of the summary data frame\n",
    "top_spenders.head(5)"
   ]
  },
  {
   "cell_type": "markdown",
   "metadata": {},
   "source": [
    "### Most Popular Items"
   ]
  },
  {
   "cell_type": "markdown",
   "metadata": {},
   "source": [
    "* Retrieve the Item ID, Item Name, and Item Price columns\n",
    "* Group by Item ID and Item Name. Perform calculations to obtain purchase count, item price, and total purchase value\n",
    "* Create a summary data frame to hold the results\n",
    "* Sort the purchase count column in descending order\n",
    "* Optional: give the displayed data cleaner formatting\n",
    "* Display a preview of the summary data frame"
   ]
  },
  {
   "cell_type": "code",
   "execution_count": 64,
   "metadata": {},
   "outputs": [
    {
     "data": {
      "text/html": [
       "<div>\n",
       "<style scoped>\n",
       "    .dataframe tbody tr th:only-of-type {\n",
       "        vertical-align: middle;\n",
       "    }\n",
       "\n",
       "    .dataframe tbody tr th {\n",
       "        vertical-align: top;\n",
       "    }\n",
       "\n",
       "    .dataframe thead th {\n",
       "        text-align: right;\n",
       "    }\n",
       "</style>\n",
       "<table border=\"1\" class=\"dataframe\">\n",
       "  <thead>\n",
       "    <tr style=\"text-align: right;\">\n",
       "      <th></th>\n",
       "      <th></th>\n",
       "      <th>Purchase Count</th>\n",
       "      <th>Item Price</th>\n",
       "      <th>Total Purchase Value</th>\n",
       "    </tr>\n",
       "    <tr>\n",
       "      <th>Item ID</th>\n",
       "      <th>Item Name</th>\n",
       "      <th></th>\n",
       "      <th></th>\n",
       "      <th></th>\n",
       "    </tr>\n",
       "  </thead>\n",
       "  <tbody>\n",
       "    <tr>\n",
       "      <th>92</th>\n",
       "      <th>Final Critic</th>\n",
       "      <td>13</td>\n",
       "      <td>$4.61</td>\n",
       "      <td>$59.99</td>\n",
       "    </tr>\n",
       "    <tr>\n",
       "      <th>178</th>\n",
       "      <th>Oathbreaker, Last Hope of the Breaking Storm</th>\n",
       "      <td>12</td>\n",
       "      <td>$4.23</td>\n",
       "      <td>$50.76</td>\n",
       "    </tr>\n",
       "    <tr>\n",
       "      <th>145</th>\n",
       "      <th>Fiery Glass Crusader</th>\n",
       "      <td>9</td>\n",
       "      <td>$4.58</td>\n",
       "      <td>$41.22</td>\n",
       "    </tr>\n",
       "    <tr>\n",
       "      <th>132</th>\n",
       "      <th>Persuasion</th>\n",
       "      <td>9</td>\n",
       "      <td>$3.22</td>\n",
       "      <td>$28.99</td>\n",
       "    </tr>\n",
       "    <tr>\n",
       "      <th>108</th>\n",
       "      <th>Extraction, Quickblade Of Trembling Hands</th>\n",
       "      <td>9</td>\n",
       "      <td>$3.53</td>\n",
       "      <td>$31.77</td>\n",
       "    </tr>\n",
       "  </tbody>\n",
       "</table>\n",
       "</div>"
      ],
      "text/plain": [
       "                                                     Purchase Count  \\\n",
       "Item ID Item Name                                                     \n",
       "92      Final Critic                                             13   \n",
       "178     Oathbreaker, Last Hope of the Breaking Storm             12   \n",
       "145     Fiery Glass Crusader                                      9   \n",
       "132     Persuasion                                                9   \n",
       "108     Extraction, Quickblade Of Trembling Hands                 9   \n",
       "\n",
       "                                                     Item Price  \\\n",
       "Item ID Item Name                                                 \n",
       "92      Final Critic                                      $4.61   \n",
       "178     Oathbreaker, Last Hope of the Breaking Storm      $4.23   \n",
       "145     Fiery Glass Crusader                              $4.58   \n",
       "132     Persuasion                                        $3.22   \n",
       "108     Extraction, Quickblade Of Trembling Hands         $3.53   \n",
       "\n",
       "                                                     Total Purchase Value  \n",
       "Item ID Item Name                                                          \n",
       "92      Final Critic                                               $59.99  \n",
       "178     Oathbreaker, Last Hope of the Breaking Storm               $50.76  \n",
       "145     Fiery Glass Crusader                                       $41.22  \n",
       "132     Persuasion                                                 $28.99  \n",
       "108     Extraction, Quickblade Of Trembling Hands                  $31.77  "
      ]
     },
     "execution_count": 64,
     "metadata": {},
     "output_type": "execute_result"
    }
   ],
   "source": [
    "# Retrieve the Item ID, Item Name, and Item Price columns\n",
    "item_data = purchase_data.loc[:,[\"Item ID\", \"Item Name\", \"Price\"]]\n",
    "\n",
    "# Group by Item ID and Item Name.\n",
    "item_purchase_value = item_data.groupby([\"Item ID\", \"Item Name\"]).sum()[\"Price\"].rename(\"Total Purchase Value\")\n",
    "average_item_price = item_data.groupby([\"Item ID\", \"Item Name\"]).mean()[\"Price\"]\n",
    "item_count = item_data.groupby([\"Item ID\", \"Item Name\"]).count()[\"Price\"].rename(\"Purchase Count\")\n",
    "\n",
    "# Create DataFrame\n",
    "item_data = pd.DataFrame({\"Total Purchase Value\": item_purchase_value, \n",
    "                          \"Item Price\": average_item_price, \n",
    "                          \"Purchase Count\": item_count})\n",
    "\n",
    "# Sort Values\n",
    "sorted_item_count = item_data.sort_values(\"Purchase Count\", ascending=False)\n",
    "\n",
    "# Optional: give the displayed data cleaner formatting\n",
    "sorted_item_count[\"Item Price\"] = sorted_item_count[\"Item Price\"].map(\"${:,.2f}\".format)\n",
    "sorted_item_count[\"Purchase Count\"] = sorted_item_count[\"Purchase Count\"].map(\"{:,}\".format)\n",
    "sorted_item_count[\"Total Purchase Value\"] = sorted_item_count[\"Total Purchase Value\"].map(\"${:,.2f}\".format)\n",
    "item_popularity = sorted_item_count.loc[:,[\"Purchase Count\", \"Item Price\", \"Total Purchase Value\"]]\n",
    "\n",
    "#Export Data frame to images\n",
    "item_popularity.head(5).dfi.export(\"images/item_popularity.png\")\n",
    "\n",
    "# Display a preview of the summary data frame\n",
    "item_popularity.head(5)"
   ]
  },
  {
   "cell_type": "markdown",
   "metadata": {},
   "source": [
    "### Most Profitable Items"
   ]
  },
  {
   "cell_type": "markdown",
   "metadata": {},
   "source": [
    "* Sort the above table by total purchase value in descending order\n",
    "* Optional: give the displayed data cleaner formatting\n",
    "* Display a preview of the data frame"
   ]
  },
  {
   "cell_type": "code",
   "execution_count": 98,
   "metadata": {
    "scrolled": true
   },
   "outputs": [
    {
     "data": {
      "text/html": [
       "<div>\n",
       "<style scoped>\n",
       "    .dataframe tbody tr th:only-of-type {\n",
       "        vertical-align: middle;\n",
       "    }\n",
       "\n",
       "    .dataframe tbody tr th {\n",
       "        vertical-align: top;\n",
       "    }\n",
       "\n",
       "    .dataframe thead th {\n",
       "        text-align: right;\n",
       "    }\n",
       "</style>\n",
       "<table border=\"1\" class=\"dataframe\">\n",
       "  <thead>\n",
       "    <tr style=\"text-align: right;\">\n",
       "      <th></th>\n",
       "      <th></th>\n",
       "      <th>Purchase Count</th>\n",
       "      <th>Item Price</th>\n",
       "      <th>Total Purchase Value</th>\n",
       "    </tr>\n",
       "    <tr>\n",
       "      <th>Item ID</th>\n",
       "      <th>Item Name</th>\n",
       "      <th></th>\n",
       "      <th></th>\n",
       "      <th></th>\n",
       "    </tr>\n",
       "  </thead>\n",
       "  <tbody>\n",
       "    <tr>\n",
       "      <th>92</th>\n",
       "      <th>Final Critic</th>\n",
       "      <td>13</td>\n",
       "      <td>$4.61</td>\n",
       "      <td>$59.99</td>\n",
       "    </tr>\n",
       "    <tr>\n",
       "      <th>178</th>\n",
       "      <th>Oathbreaker, Last Hope of the Breaking Storm</th>\n",
       "      <td>12</td>\n",
       "      <td>$4.23</td>\n",
       "      <td>$50.76</td>\n",
       "    </tr>\n",
       "    <tr>\n",
       "      <th>82</th>\n",
       "      <th>Nirvana</th>\n",
       "      <td>9</td>\n",
       "      <td>$4.90</td>\n",
       "      <td>$44.10</td>\n",
       "    </tr>\n",
       "    <tr>\n",
       "      <th>145</th>\n",
       "      <th>Fiery Glass Crusader</th>\n",
       "      <td>9</td>\n",
       "      <td>$4.58</td>\n",
       "      <td>$41.22</td>\n",
       "    </tr>\n",
       "    <tr>\n",
       "      <th>103</th>\n",
       "      <th>Singed Scalpel</th>\n",
       "      <td>8</td>\n",
       "      <td>$4.35</td>\n",
       "      <td>$34.80</td>\n",
       "    </tr>\n",
       "  </tbody>\n",
       "</table>\n",
       "</div>"
      ],
      "text/plain": [
       "                                                     Purchase Count  \\\n",
       "Item ID Item Name                                                     \n",
       "92      Final Critic                                             13   \n",
       "178     Oathbreaker, Last Hope of the Breaking Storm             12   \n",
       "82      Nirvana                                                   9   \n",
       "145     Fiery Glass Crusader                                      9   \n",
       "103     Singed Scalpel                                            8   \n",
       "\n",
       "                                                     Item Price  \\\n",
       "Item ID Item Name                                                 \n",
       "92      Final Critic                                      $4.61   \n",
       "178     Oathbreaker, Last Hope of the Breaking Storm      $4.23   \n",
       "82      Nirvana                                           $4.90   \n",
       "145     Fiery Glass Crusader                              $4.58   \n",
       "103     Singed Scalpel                                    $4.35   \n",
       "\n",
       "                                                     Total Purchase Value  \n",
       "Item ID Item Name                                                          \n",
       "92      Final Critic                                               $59.99  \n",
       "178     Oathbreaker, Last Hope of the Breaking Storm               $50.76  \n",
       "82      Nirvana                                                    $44.10  \n",
       "145     Fiery Glass Crusader                                       $41.22  \n",
       "103     Singed Scalpel                                             $34.80  "
      ]
     },
     "execution_count": 98,
     "metadata": {},
     "output_type": "execute_result"
    }
   ],
   "source": [
    "# Sorted Item Table by total purchase value in descending order\n",
    "sorted_item_purchase = item_data.sort_values(\"Total Purchase Value\", ascending=False)\n",
    "\n",
    "# Optional: give the displayed data cleaner formatting\n",
    "sorted_item_purchase[\"Item Price\"] = sorted_item_purchase[\"Item Price\"].map(\"${:,.2f}\".format)\n",
    "sorted_item_purchase[\"Purchase Count\"] = sorted_item_purchase[\"Purchase Count\"].map(\"{:,}\".format)\n",
    "sorted_item_purchase[\"Total Purchase Value\"] = sorted_item_purchase[\"Total Purchase Value\"].map(\"${:,.2f}\".format)\n",
    "profitable_items = sorted_item_purchase.loc[:,[\"Purchase Count\", \"Item Price\", \"Total Purchase Value\"]]\n",
    "    \n",
    "# Export Data frame to images\n",
    "sorted_item_purchase.head(5).dfi.export(\"images/item_popularity.png\")\n",
    "    \n",
    "# Display a preview of the data frame\n",
    "profitable_items.head(5)"
   ]
  },
  {
   "cell_type": "code",
   "execution_count": null,
   "metadata": {},
   "outputs": [],
   "source": []
  }
 ],
 "metadata": {
  "anaconda-cloud": {},
  "kernel_info": {
   "name": "python3"
  },
  "kernelspec": {
   "display_name": "Python 3",
   "language": "python",
   "name": "python3"
  },
  "language_info": {
   "codemirror_mode": {
    "name": "ipython",
    "version": 3
   },
   "file_extension": ".py",
   "mimetype": "text/x-python",
   "name": "python",
   "nbconvert_exporter": "python",
   "pygments_lexer": "ipython3",
   "version": "3.8.3"
  },
  "latex_envs": {
   "LaTeX_envs_menu_present": true,
   "autoclose": false,
   "autocomplete": true,
   "bibliofile": "biblio.bib",
   "cite_by": "apalike",
   "current_citInitial": 1,
   "eqLabelWithNumbers": true,
   "eqNumInitial": 1,
   "hotkeys": {
    "equation": "Ctrl-E",
    "itemize": "Ctrl-I"
   },
   "labels_anchors": false,
   "latex_user_defs": false,
   "report_style_numbering": false,
   "user_envs_cfg": false
  },
  "nteract": {
   "version": "0.2.0"
  }
 },
 "nbformat": 4,
 "nbformat_minor": 2
}
